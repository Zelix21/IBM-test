{
 "cells": [
  {
   "cell_type": "markdown",
   "id": "f76adee1-de44-45f9-a459-0044bf4a0799",
   "metadata": {},
   "source": [
    "##My Jupyter Notebook on IBM Watson Studio"
   ]
  },
  {
   "cell_type": "markdown",
   "id": "c6b09c50-f22a-4e0e-a8fd-a015e7a5ebc7",
   "metadata": {},
   "source": [
    "**Delip Antonio**\n",
    "\n",
    "Assosciate consultant"
   ]
  },
  {
   "cell_type": "markdown",
   "id": "335a7221-b2c3-4eca-8ed9-84239b1bc84e",
   "metadata": {},
   "source": [
    "*I am interested in data science because I am a curious person by nature. Through datasets, I find interesting stories,patterns,problems and the drive to solve them keeps me excited which is why I would like to pursue the field of data science as my career.*"
   ]
  },
  {
   "cell_type": "markdown",
   "id": "4ef4d123-331c-4809-a6a9-4e3b3b33ce8b",
   "metadata": {},
   "source": [
    "###In the code below,we take 2 variables \"a\" and \"b\" with predefined values and compute their sum which is stored in the variable \"sum\". The sum is then printed to the screen.###"
   ]
  },
  {
   "cell_type": "code",
   "execution_count": 1,
   "id": "5575508b-7266-46f3-80bc-a3785c141aaf",
   "metadata": {},
   "outputs": [
    {
     "name": "stdout",
     "output_type": "stream",
     "text": [
      "5\n"
     ]
    }
   ],
   "source": [
    "a = 2\n",
    "b = 3\n",
    "sum = a + b\n",
    "print(sum)\n"
   ]
  },
  {
   "cell_type": "markdown",
   "id": "b360e376-4fc5-4baf-82ca-cd2462eb0ffd",
   "metadata": {},
   "source": [
    "1. This is a an example of a numbered list.\n",
    "2. Today,it's sunny outside.\n",
    "3. I drove the car to work\n",
    "\n",
    "* This is an example of bullet list\n",
    "* It is important to leave a space after the asterisk symbol to denote it as a bulletin point.\n",
    "* Below is an example of an image linked to the cell from the web-page of google\n",
    "\n",
    "\n",
    "![Google logo](http://www.google.com/images/logo.gif \"The Google logo\")"
   ]
  },
  {
   "cell_type": "code",
   "execution_count": null,
   "id": "30fde5c6-f737-4371-b97d-b749dd647c58",
   "metadata": {},
   "outputs": [],
   "source": []
  }
 ],
 "metadata": {
  "kernelspec": {
   "display_name": "Python",
   "language": "python",
   "name": "conda-env-python-py"
  },
  "language_info": {
   "codemirror_mode": {
    "name": "ipython",
    "version": 3
   },
   "file_extension": ".py",
   "mimetype": "text/x-python",
   "name": "python",
   "nbconvert_exporter": "python",
   "pygments_lexer": "ipython3",
   "version": "3.7.12"
  }
 },
 "nbformat": 4,
 "nbformat_minor": 5
}
